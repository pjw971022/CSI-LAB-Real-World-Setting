{
 "cells": [
  {
   "cell_type": "code",
   "execution_count": 3,
   "metadata": {},
   "outputs": [
    {
     "ename": "UnboundLocalError",
     "evalue": "local variable 'saved_frame_count' referenced before assignment",
     "output_type": "error",
     "traceback": [
      "\u001b[0;31m---------------------------------------------------------------------------\u001b[0m",
      "\u001b[0;31mUnboundLocalError\u001b[0m                         Traceback (most recent call last)",
      "Cell \u001b[0;32mIn[3], line 40\u001b[0m\n\u001b[1;32m     38\u001b[0m video_path \u001b[38;5;241m=\u001b[39m \u001b[38;5;124m'\u001b[39m\u001b[38;5;124mhammer_video.mp4\u001b[39m\u001b[38;5;124m'\u001b[39m \u001b[38;5;66;03m# 동영상 파일 경로\u001b[39;00m\n\u001b[1;32m     39\u001b[0m output_dir \u001b[38;5;241m=\u001b[39m \u001b[38;5;124m'\u001b[39m\u001b[38;5;124m/home/pjw971022/Sembot/real_bot/save_vision/edit_video\u001b[39m\u001b[38;5;124m'\u001b[39m \u001b[38;5;66;03m# 추출된 프레임을 저장할 디렉토리\u001b[39;00m\n\u001b[0;32m---> 40\u001b[0m \u001b[43mvideo_to_frames\u001b[49m\u001b[43m(\u001b[49m\u001b[43mvideo_path\u001b[49m\u001b[43m,\u001b[49m\u001b[43m \u001b[49m\u001b[43moutput_dir\u001b[49m\u001b[43m)\u001b[49m\n",
      "Cell \u001b[0;32mIn[3], line 27\u001b[0m, in \u001b[0;36mvideo_to_frames\u001b[0;34m(video_path, output_dir, frame_interval)\u001b[0m\n\u001b[1;32m     25\u001b[0m \u001b[38;5;66;03m# 일정 간격(frame_interval)에 따라 프레임 저장\u001b[39;00m\n\u001b[1;32m     26\u001b[0m \u001b[38;5;28;01mif\u001b[39;00m frame_count \u001b[38;5;241m%\u001b[39m frame_interval \u001b[38;5;241m==\u001b[39m \u001b[38;5;241m0\u001b[39m:\n\u001b[0;32m---> 27\u001b[0m     frame_path \u001b[38;5;241m=\u001b[39m os\u001b[38;5;241m.\u001b[39mpath\u001b[38;5;241m.\u001b[39mjoin(output_dir, \u001b[38;5;124mf\u001b[39m\u001b[38;5;124m\"\u001b[39m\u001b[38;5;124mframe_\u001b[39m\u001b[38;5;132;01m{\u001b[39;00msaved_frame_count\u001b[38;5;132;01m:\u001b[39;00m\u001b[38;5;124m04d\u001b[39m\u001b[38;5;132;01m}\u001b[39;00m\u001b[38;5;124m.jpg\u001b[39m\u001b[38;5;124m\"\u001b[39m)\n\u001b[1;32m     28\u001b[0m     cv2\u001b[38;5;241m.\u001b[39mimwrite(frame_path, frame)\n\u001b[1;32m     29\u001b[0m     saved_frame_count \u001b[38;5;241m+\u001b[39m\u001b[38;5;241m=\u001b[39m \u001b[38;5;241m1\u001b[39m\n",
      "\u001b[0;31mUnboundLocalError\u001b[0m: local variable 'saved_frame_count' referenced before assignment"
     ]
    }
   ],
   "source": [
    "import cv2\n",
    "import os\n",
    "\n",
    "def video_to_frames(video_path, output_dir,frame_interval=100):\n",
    "    # 비디오 파일 로드\n",
    "    cap = cv2.VideoCapture(video_path)\n",
    "    \n",
    "    if not cap.isOpened():\n",
    "        print(\"Error opening video file\")\n",
    "        return\n",
    "\n",
    "    # 출력 디렉토리가 존재하지 않으면 생성\n",
    "    if not os.path.exists(output_dir):\n",
    "        os.makedirs(output_dir)\n",
    "\n",
    "    frame_count = 0\n",
    "    saved_frame_count = 0\n",
    "    while True:\n",
    "        # 프레임별로 읽기\n",
    "        ret, frame = cap.read()\n",
    "        \n",
    "        # 더 이상 읽을 프레임이 없으면 종료\n",
    "        if not ret:\n",
    "            break\n",
    "        \n",
    "        # 일정 간격(frame_interval)에 따라 프레임 저장\n",
    "        if frame_count % frame_interval == 0:\n",
    "            frame_path = os.path.join(output_dir, f\"frame_{saved_frame_count:04d}.jpg\")\n",
    "            cv2.imwrite(frame_path, frame)\n",
    "            saved_frame_count += 1\n",
    "        \n",
    "        frame_count += 1\n",
    "\n",
    "    # 비디오 파일 해제\n",
    "    cap.release()\n",
    "    print(f\"Total {frame_count} frames are extracted to {output_dir}.\")\n",
    "\n",
    "# 사용 예시\n",
    "video_path = 'hammer_video.mp4' # 동영상 파일 경로\n",
    "output_dir = '/home/pjw971022/Sembot/real_bot/save_vision/edit_video' # 추출된 프레임을 저장할 디렉토리\n",
    "video_to_frames(video_path, output_dir)\n"
   ]
  }
 ],
 "metadata": {
  "kernelspec": {
   "display_name": "omni",
   "language": "python",
   "name": "python3"
  },
  "language_info": {
   "codemirror_mode": {
    "name": "ipython",
    "version": 3
   },
   "file_extension": ".py",
   "mimetype": "text/x-python",
   "name": "python",
   "nbconvert_exporter": "python",
   "pygments_lexer": "ipython3",
   "version": "3.9.18"
  }
 },
 "nbformat": 4,
 "nbformat_minor": 2
}
